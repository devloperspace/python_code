{
 "cells": [
  {
   "cell_type": "code",
   "execution_count": 5,
   "id": "b74da6da",
   "metadata": {},
   "outputs": [
    {
     "data": {
      "text/plain": [
       "3.0"
      ]
     },
     "execution_count": 5,
     "metadata": {},
     "output_type": "execute_result"
    }
   ],
   "source": [
    "# 1. Write a program to calculate the area of the following shape:\n",
    "\n",
    "# a. Rectangle\n",
    "\n",
    "# b. Circle\n",
    "\n",
    "# c. Square\n",
    "\n",
    "# d. Triangle\n",
    "\n",
    "\n",
    "import math\n",
    "\n",
    "def rectangle(length, width):\n",
    "    return length * width\n",
    "\n",
    "def circle(radius):\n",
    "    return math.pi * radius ** 2\n",
    "\n",
    "def square(side):\n",
    "    return side ** 2\n",
    "\n",
    "def triangle(base, height):\n",
    "    return 0.5 * base * height\n",
    "\n",
    "\n",
    "rectangle(12,12)\n",
    "\n",
    "circle(2)\n",
    "\n",
    "square(8)\n",
    "\n",
    "triangle(2,3)\n"
   ]
  },
  {
   "cell_type": "code",
   "execution_count": 6,
   "id": "49c6bb9a",
   "metadata": {},
   "outputs": [
    {
     "data": {
      "text/plain": [
       "1020.0"
      ]
     },
     "execution_count": 6,
     "metadata": {},
     "output_type": "execute_result"
    }
   ],
   "source": [
    "# 2. Write a program to calculate simple interest.\n",
    "\n",
    "def si(amount,time,interest):\n",
    "    return (amount*time*interest)/100\n",
    "\n",
    "si(1200,10,8.5)\n"
   ]
  },
  {
   "cell_type": "code",
   "execution_count": 7,
   "id": "d01a11a1",
   "metadata": {},
   "outputs": [],
   "source": [
    "# 3. Write a program to take user input and calculate the power of a number.\n",
    "\n",
    "def power(num):\n",
    "    return num**num\n"
   ]
  },
  {
   "cell_type": "code",
   "execution_count": 9,
   "id": "6b1a2d14",
   "metadata": {},
   "outputs": [
    {
     "name": "stdout",
     "output_type": "stream",
     "text": [
      "a =  12 b =  34\n",
      "after swap \n",
      " a = 34  b =  12\n"
     ]
    },
    {
     "data": {
      "text/plain": [
       "(34, 12)"
      ]
     },
     "execution_count": 9,
     "metadata": {},
     "output_type": "execute_result"
    }
   ],
   "source": [
    "# 4. Write a program to swap two numbers without using a third variable.\n",
    "def swap(a,b):\n",
    "    print('a = ',a,'b = ',b)\n",
    "    a,b=b,a\n",
    "    print(\"after swap \\n a =\",a,' b = ',b)\n",
    "    return a,b\n",
    "\n",
    "swap(12,34)"
   ]
  },
  {
   "cell_type": "code",
   "execution_count": 13,
   "id": "ba020767",
   "metadata": {},
   "outputs": [
    {
     "data": {
      "text/plain": [
       "0"
      ]
     },
     "execution_count": 13,
     "metadata": {},
     "output_type": "execute_result"
    }
   ],
   "source": [
    "# 5. Write a program that takes an integer as input and prints whether it's an odd or even number.\n",
    "\n",
    "def check_num(num):\n",
    "    if num == 0:\n",
    "        return 0\n",
    "    if num>0:\n",
    "        return 'Positive Integer'\n",
    "    if num<0:\n",
    "        return 'Negative Integer'\n",
    "    \n",
    "check_num(-0)"
   ]
  },
  {
   "cell_type": "code",
   "execution_count": 15,
   "id": "60c02db6",
   "metadata": {},
   "outputs": [
    {
     "data": {
      "text/plain": [
       "True"
      ]
     },
     "execution_count": 15,
     "metadata": {},
     "output_type": "execute_result"
    }
   ],
   "source": [
    "# 6. Write a program that checks whether a given year is a leap year.\n",
    "\n",
    "def check_leap_year(year):\n",
    "    if year%4==0:\n",
    "        return True\n",
    "    else:\n",
    "        return False\n",
    "    \n",
    "check_leap_year(2000)\n"
   ]
  },
  {
   "cell_type": "code",
   "execution_count": 16,
   "id": "0a01acba",
   "metadata": {},
   "outputs": [
    {
     "data": {
      "text/plain": [
       "False"
      ]
     },
     "execution_count": 16,
     "metadata": {},
     "output_type": "execute_result"
    }
   ],
   "source": [
    "# 7. Write a program to check whether a person is eligible to vote.\n",
    "\n",
    "def check_vote(age):\n",
    "    if age>=18:\n",
    "        return True\n",
    "    else:\n",
    "        return False\n",
    "    \n",
    "check_vote(2)"
   ]
  },
  {
   "cell_type": "code",
   "execution_count": null,
   "id": "f9ae06f7",
   "metadata": {},
   "outputs": [],
   "source": [
    "# 8. Write a program to check whether a student is pass or fail.\n",
    "\n",
    "def check_fail(marks):\n",
    "    if marks<=35:\n",
    "        return False\n",
    "    else:\n",
    "        return True\n",
    "    \n",
    "\n"
   ]
  },
  {
   "cell_type": "code",
   "execution_count": null,
   "id": "ce724f87",
   "metadata": {},
   "outputs": [],
   "source": [
    "# 9. Write a program that takes a student's score as input and prints their grade (A, B, C, D, or F) based on the\n",
    "# score.\n",
    "\n",
    "\n"
   ]
  },
  {
   "cell_type": "code",
   "execution_count": null,
   "id": "32c0759a",
   "metadata": {},
   "outputs": [],
   "source": []
  },
  {
   "cell_type": "code",
   "execution_count": null,
   "id": "23b275b6",
   "metadata": {},
   "outputs": [],
   "source": []
  },
  {
   "cell_type": "code",
   "execution_count": null,
   "id": "20f84a93",
   "metadata": {},
   "outputs": [],
   "source": []
  },
  {
   "cell_type": "code",
   "execution_count": null,
   "id": "9f3e83cf",
   "metadata": {},
   "outputs": [],
   "source": []
  },
  {
   "cell_type": "code",
   "execution_count": null,
   "id": "01fbcd10",
   "metadata": {},
   "outputs": [],
   "source": []
  }
 ],
 "metadata": {
  "kernelspec": {
   "display_name": "Python 3",
   "language": "python",
   "name": "python3"
  },
  "language_info": {
   "codemirror_mode": {
    "name": "ipython",
    "version": 3
   },
   "file_extension": ".py",
   "mimetype": "text/x-python",
   "name": "python",
   "nbconvert_exporter": "python",
   "pygments_lexer": "ipython3",
   "version": "3.8.3"
  },
  "varInspector": {
   "cols": {
    "lenName": 16,
    "lenType": 16,
    "lenVar": 40
   },
   "kernels_config": {
    "python": {
     "delete_cmd_postfix": "",
     "delete_cmd_prefix": "del ",
     "library": "var_list.py",
     "varRefreshCmd": "print(var_dic_list())"
    },
    "r": {
     "delete_cmd_postfix": ") ",
     "delete_cmd_prefix": "rm(",
     "library": "var_list.r",
     "varRefreshCmd": "cat(var_dic_list()) "
    }
   },
   "types_to_exclude": [
    "module",
    "function",
    "builtin_function_or_method",
    "instance",
    "_Feature"
   ],
   "window_display": false
  }
 },
 "nbformat": 4,
 "nbformat_minor": 5
}
